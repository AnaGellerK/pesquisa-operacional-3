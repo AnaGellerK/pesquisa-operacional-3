{
  "nbformat": 4,
  "nbformat_minor": 0,
  "metadata": {
    "colab": {
      "provenance": []
    },
    "kernelspec": {
      "name": "python3",
      "display_name": "Python 3"
    },
    "language_info": {
      "name": "python"
    }
  },
  "cells": [
    {
      "cell_type": "code",
      "execution_count": 51,
      "metadata": {
        "id": "C8nvxCkjsKqZ"
      },
      "outputs": [],
      "source": [
        "# Install dependencies\n",
        "%pip install -q amplpy"
      ]
    },
    {
      "cell_type": "code",
      "source": [
        "# Google Colab & Kaggle integration\n",
        "from amplpy import AMPL, ampl_notebook\n",
        "\n",
        "ampl = ampl_notebook(\n",
        "    modules=[\"highs\"],  # modules to install\n",
        "    license_uuid=\"default\",  # license to use\n",
        ")  # instantiate AMPL object and register magics"
      ],
      "metadata": {
        "colab": {
          "base_uri": "https://localhost:8080/"
        },
        "id": "2MQroff5sZuu",
        "outputId": "44886429-a6d4-4536-ed41-c353d2e7770e"
      },
      "execution_count": 52,
      "outputs": [
        {
          "output_type": "stream",
          "name": "stdout",
          "text": [
            "Using default Community Edition License for Colab. Get yours at: https://ampl.com/ce\n",
            "Licensed to AMPL Community Edition License for the AMPL Model Colaboratory (https://colab.ampl.com).\n"
          ]
        }
      ]
    },
    {
      "cell_type": "code",
      "source": [
        "#programação de metas\n",
        "%%writefile programacaometas.mod\n",
        "\n",
        "var X1 >= 0;\n",
        "var X2 >= 0;\n",
        "var Z >= 0;\n",
        "\n",
        "  #funcao objetivo\n",
        "maximize fo: Z;\n",
        "\n",
        "  #restricoes\n",
        "subject to R1:\n",
        "  5 * X1 + 10 * X2 >= 60;\n",
        "\n",
        "subject to R2:\n",
        "  4 * X1 + 5 * X2 >= 35;\n",
        "\n",
        "subject to R3:\n",
        "  3 * X1 + 7 * X2 >= 40;\n",
        "\n",
        "subject to R4:\n",
        "  60 * X1 + 100 * X2 <= 600;\n",
        "\n",
        "subject to R5:\n",
        "  Z >= 0;\n",
        "\n",
        "subject to R6:\n",
        "  Z =  0 * X1 + 0 * X2;"
      ],
      "metadata": {
        "colab": {
          "base_uri": "https://localhost:8080/"
        },
        "id": "Xx94ojv-sgdm",
        "outputId": "3f51b94b-84c9-458a-fdaf-94081ffdeda5"
      },
      "execution_count": 53,
      "outputs": [
        {
          "output_type": "stream",
          "name": "stdout",
          "text": [
            "Overwriting programacaometas.mod\n"
          ]
        }
      ]
    },
    {
      "cell_type": "code",
      "source": [
        "#printando Z, x1 e x2\n",
        "%%ampl_eval\n",
        "reset;\n",
        "model programacaometas.mod;\n",
        "option solver highs;\n",
        "solve;\n",
        "display Z;\n",
        "display X1;\n",
        "display X2;\n",
        "reset;"
      ],
      "metadata": {
        "colab": {
          "base_uri": "https://localhost:8080/"
        },
        "id": "X-1rdKrPy735",
        "outputId": "d99542f9-80d0-43d2-9087-78ba00f92322"
      },
      "execution_count": 54,
      "outputs": [
        {
          "output_type": "stream",
          "name": "stdout",
          "text": [
            "HiGHS 1.5.3: \b\b\b\b\b\b\b\b\b\b\b\b\bHiGHS 1.5.3: infeasible problem\n",
            "3 simplex iterations\n",
            "0 barrier iterations\n",
            " \n",
            "Z = 0\n",
            "\n",
            "X1 = 0\n",
            "\n",
            "X2 = 0\n",
            "\n"
          ]
        }
      ]
    },
    {
      "cell_type": "code",
      "source": [
        "#Método dos pesos (ponderação)\n",
        "%%writefile programacaometas.mod\n",
        "\n",
        "#SiN = quantidade que falta em relação à meta i\n",
        "#SiP = quantidade de excesso em relação à meta i\n",
        "\n",
        "var X1 >= 0;\n",
        "var X2 >= 0;\n",
        "var S1N >= 0;\n",
        "var S1P >= 0;\n",
        "var S2N >= 0;\n",
        "var S2P >= 0;\n",
        "var S3N >= 0;\n",
        "var S3P >= 0;\n",
        "var Z >= 0;\n",
        "\n",
        "  #funcao objetivo\n",
        "minimize fo: Z;\n",
        "\n",
        "  #restricoes\n",
        "subject to R1:\n",
        "  5 * X1 + 10 * X2 + S1N - S1P = 60;\n",
        "\n",
        "subject to R2:\n",
        "  4 * X1 + 5 * X2 + S2N - S2P = 35;\n",
        "\n",
        "subject to R3:\n",
        "  3 * X1 + 7 * X2 + S3N - S3P = 40;\n",
        "\n",
        "subject to R4:\n",
        "  60 * X1 + 100 * X2 <= 600;\n",
        "\n",
        "  #minimizando as faltas da meta\n",
        "subject to R5:\n",
        "  Z = 100 * S1N + 50 * S2N + 200 * S3N;"
      ],
      "metadata": {
        "colab": {
          "base_uri": "https://localhost:8080/"
        },
        "id": "wrtbsIbiz8OU",
        "outputId": "b17c376d-ede8-4d89-d45e-e29c9b46569d"
      },
      "execution_count": 55,
      "outputs": [
        {
          "output_type": "stream",
          "name": "stdout",
          "text": [
            "Overwriting programacaometas.mod\n"
          ]
        }
      ]
    },
    {
      "cell_type": "code",
      "source": [
        "%%ampl_eval\n",
        "reset;\n",
        "model programacaometas.mod;\n",
        "option solver highs;\n",
        "solve;\n",
        "display Z;\n",
        "display X1;\n",
        "display X2;\n",
        "display S1N;\n",
        "display S1P;\n",
        "display S2N;\n",
        "display S2P;\n",
        "display S3N;\n",
        "display S3P;\n",
        "reset;"
      ],
      "metadata": {
        "colab": {
          "base_uri": "https://localhost:8080/"
        },
        "id": "NNqwjq8IzPE3",
        "outputId": "45a74fde-d635-4313-fcee-97b0e021c184"
      },
      "execution_count": 56,
      "outputs": [
        {
          "output_type": "stream",
          "name": "stdout",
          "text": [
            "HiGHS 1.5.3: \b\b\b\b\b\b\b\b\b\b\b\b\bHiGHS 1.5.3: optimal solution; objective 250\n",
            "4 simplex iterations\n",
            "0 barrier iterations\n",
            " \n",
            "Z = 250\n",
            "\n",
            "X1 = 0\n",
            "\n",
            "X2 = 6\n",
            "\n",
            "S1N = 0\n",
            "\n",
            "S1P = 0\n",
            "\n",
            "S2N = 5\n",
            "\n",
            "S2P = 0\n",
            "\n",
            "S3N = 0\n",
            "\n",
            "S3P = 2\n",
            "\n"
          ]
        }
      ]
    },
    {
      "cell_type": "code",
      "source": [
        "#Método hierarquica - passo 1\n",
        "%%writefile programacaometas.mod\n",
        "\n",
        "# p1 = s1 ; p2 = s2 ; p3 = s3\n",
        "# sendo p3 > p1 > p2 (apenas neste caso)\n",
        "\n",
        "# vamos minimizar p3\n",
        "\n",
        "var X1 >= 0;\n",
        "var X2 >= 0;\n",
        "var S1N >= 0;\n",
        "var S1P >= 0;\n",
        "var S2N >= 0;\n",
        "var S2P >= 0;\n",
        "var S3N >= 0;\n",
        "var S3P >= 0;\n",
        "var Z >= 0;\n",
        "\n",
        "  #funcao objetivo\n",
        "minimize fo: Z;\n",
        "\n",
        "  #restricoes\n",
        "subject to R1:\n",
        "  5 * X1 + 10 * X2 + S1N - S1P = 60;\n",
        "\n",
        "subject to R2:\n",
        "  4 * X1 + 5 * X2 + S2N - S2P = 35;\n",
        "\n",
        "subject to R3:\n",
        "  3 * X1 + 7 * X2 + S3N - S3P = 40;\n",
        "\n",
        "subject to R4:\n",
        "  60 * X1 + 100 * X2 <= 600;\n",
        "\n",
        "subject to R5:\n",
        "  Z = S3N;"
      ],
      "metadata": {
        "colab": {
          "base_uri": "https://localhost:8080/"
        },
        "id": "hVBGu3XQ6qKc",
        "outputId": "1f52bfd3-0755-4de4-c4f3-df7f19f86b9f"
      },
      "execution_count": 57,
      "outputs": [
        {
          "output_type": "stream",
          "name": "stdout",
          "text": [
            "Overwriting programacaometas.mod\n"
          ]
        }
      ]
    },
    {
      "cell_type": "code",
      "source": [
        "#Método hierarquica - passo 2\n",
        "%%writefile programacaometas.mod\n",
        "\n",
        "# agora vamos minimizar p1, que está em segunda prioridade\n",
        "# lembrando p3 > p1 > p2 (apenas neste caso)\n",
        "\n",
        "var X1 >= 0;\n",
        "var X2 >= 0;\n",
        "var S1N >= 0;\n",
        "var S1P >= 0;\n",
        "var S2N >= 0;\n",
        "var S2P >= 0;\n",
        "var S3N >= 0;\n",
        "var S3P >= 0;\n",
        "var Z >= 0;\n",
        "\n",
        "  #funcao objetivo\n",
        "minimize fo: Z;\n",
        "\n",
        "  #restricoes\n",
        "subject to R1:\n",
        "  5 * X1 + 10 * X2 + S1N - S1P = 60;\n",
        "\n",
        "subject to R2:\n",
        "  4 * X1 + 5 * X2 + S2N - S2P = 35;\n",
        "\n",
        "subject to R3:\n",
        "  3 * X1 + 7 * X2 + S3N - S3P = 40;\n",
        "\n",
        "subject to R4:\n",
        "  60 * X1 + 100 * X2 <= 600;\n",
        "\n",
        "subject to R5:\n",
        "  S3N = 0;\n",
        "\n",
        "subject to R6:\n",
        "  Z = S1N;"
      ],
      "metadata": {
        "colab": {
          "base_uri": "https://localhost:8080/"
        },
        "id": "KPCczLWE7S1r",
        "outputId": "4888b03a-e39a-4730-968d-1bec0c57cc4a"
      },
      "execution_count": 58,
      "outputs": [
        {
          "output_type": "stream",
          "name": "stdout",
          "text": [
            "Overwriting programacaometas.mod\n"
          ]
        }
      ]
    },
    {
      "cell_type": "code",
      "source": [
        "#Método hierarquica - passo 3\n",
        "%%writefile programacaometas.mod\n",
        "\n",
        "# por último vamos minimizar p2\n",
        "# lembrando p3 > p1 > p2 (apenas neste caso)\n",
        "\n",
        "var X1 >= 0;\n",
        "var X2 >= 0;\n",
        "var S1N >= 0;\n",
        "var S1P >= 0;\n",
        "var S2N >= 0;\n",
        "var S2P >= 0;\n",
        "var S3N >= 0;\n",
        "var S3P >= 0;\n",
        "var Z >= 0;\n",
        "\n",
        "  #funcao objetivo\n",
        "minimize fo: Z;\n",
        "\n",
        "  #restricoes\n",
        "subject to R1:\n",
        "  5 * X1 + 10 * X2 + S1N - S1P = 60;\n",
        "\n",
        "subject to R2:\n",
        "  4 * X1 + 5 * X2 + S2N - S2P = 35;\n",
        "\n",
        "subject to R3:\n",
        "  3 * X1 + 7 * X2 + S3N - S3P = 40;\n",
        "\n",
        "subject to R4:\n",
        "  60 * X1 + 100 * X2 <= 600;\n",
        "\n",
        "subject to R5:\n",
        "  S3N = 0;\n",
        "\n",
        "subject to R6:\n",
        "  S1N = 0;\n",
        "\n",
        "subject to R7:\n",
        "  Z = S2N;"
      ],
      "metadata": {
        "colab": {
          "base_uri": "https://localhost:8080/"
        },
        "id": "Eg8RwcOk8Ws7",
        "outputId": "006c0ca8-2b95-4fe9-9ee3-111073f551e6"
      },
      "execution_count": 59,
      "outputs": [
        {
          "output_type": "stream",
          "name": "stdout",
          "text": [
            "Overwriting programacaometas.mod\n"
          ]
        }
      ]
    },
    {
      "cell_type": "code",
      "source": [
        "%%ampl_eval\n",
        "reset;\n",
        "model programacaometas.mod;\n",
        "option solver highs;\n",
        "solve;\n",
        "display Z;\n",
        "display X1;\n",
        "display X2;\n",
        "display S1N;\n",
        "display S1P;\n",
        "display S2N;\n",
        "display S2P;\n",
        "display S3N;\n",
        "display S3P;\n",
        "reset;"
      ],
      "metadata": {
        "colab": {
          "base_uri": "https://localhost:8080/"
        },
        "id": "GocX0VBBwWF9",
        "outputId": "2fa53fde-d9b1-47f7-ae83-4cd0fe5aa898"
      },
      "execution_count": 60,
      "outputs": [
        {
          "output_type": "stream",
          "name": "stdout",
          "text": [
            "HiGHS 1.5.3: \b\b\b\b\b\b\b\b\b\b\b\b\bHiGHS 1.5.3: optimal solution; objective 5\n",
            "5 simplex iterations\n",
            "0 barrier iterations\n",
            " \n",
            "Z = 5\n",
            "\n",
            "X1 = 0\n",
            "\n",
            "X2 = 6\n",
            "\n",
            "S1N = 0\n",
            "\n",
            "S1P = 0\n",
            "\n",
            "S2N = 5\n",
            "\n",
            "S2P = 0\n",
            "\n",
            "S3N = 0\n",
            "\n",
            "S3P = 2\n",
            "\n"
          ]
        }
      ]
    }
  ]
}