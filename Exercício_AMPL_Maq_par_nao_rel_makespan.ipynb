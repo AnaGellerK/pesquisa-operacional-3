{
  "nbformat": 4,
  "nbformat_minor": 0,
  "metadata": {
    "colab": {
      "provenance": []
    },
    "kernelspec": {
      "name": "python3",
      "display_name": "Python 3"
    },
    "language_info": {
      "name": "python"
    }
  },
  "cells": [
    {
      "cell_type": "code",
      "execution_count": 52,
      "metadata": {
        "id": "6j0PmE9qsPaA"
      },
      "outputs": [],
      "source": [
        "%pip install -q amplpy"
      ]
    },
    {
      "cell_type": "code",
      "source": [
        "from amplpy import AMPL, tools\n",
        "\n",
        "ampl = tools.ampl_notebook(\n",
        "    modules=[\"highs\"],  # modules to install\n",
        "    license_uuid=\"default\",  # license to use\n",
        ")"
      ],
      "metadata": {
        "colab": {
          "base_uri": "https://localhost:8080/"
        },
        "id": "TqYDH8hPsd4S",
        "outputId": "b3054074-5094-44ec-9a4a-158a8f7bf0f2"
      },
      "execution_count": 53,
      "outputs": [
        {
          "output_type": "stream",
          "name": "stdout",
          "text": [
            "Using default Community Edition License for Colab. Get yours at: https://ampl.com/ce\n",
            "Licensed to AMPL Community Edition License for the AMPL Model Colaboratory (https://colab.ampl.com).\n"
          ]
        }
      ]
    },
    {
      "cell_type": "code",
      "source": [
        "%%writefile MaquinasParalelasMakespan.mod\n",
        "set TAREFAS;\n",
        "set MAQUINAS;\n",
        "set MATRIZ1 = {TAREFAS,MAQUINAS};\n",
        "set MATRIZ2 = {TAREFAS,TAREFAS, MAQUINAS};\n",
        "\n",
        "param p {MATRIZ1};\n",
        "param d {TAREFAS};\n",
        "param G := 10000;\n",
        "\n",
        "var Cmax >= 0;\n",
        "var E {TAREFAS} >= 0;\n",
        "var C {MATRIZ1} >= 0;\n",
        "var X {MATRIZ2} binary;\n",
        "var Etotal >= 0;\n",
        "\n",
        "minimize FO: Cmax;\n",
        "\n",
        "subject to R1 {j in TAREFAS: j <> 0}:\n",
        "  sum {k in MAQUINAS, i in TAREFAS} X[i,j,k] = 1;\n",
        "\n",
        "subject to R2 {k in MAQUINAS}:\n",
        "  sum {j in TAREFAS: j <> 0} X[0,j,k] <= 1;\n",
        "\n",
        "subject to R3 {h in TAREFAS, k in MAQUINAS: h <> 0}:\n",
        "  sum {i in TAREFAS: i <> h} X[i,h,k] - sum {j in TAREFAS: j <> h} X[h,j,k] = 0;\n",
        "\n",
        "subject to R4 {i in TAREFAS, j in TAREFAS, k in MAQUINAS: j <> 0}:\n",
        "  C[j,k] >= C[i,k] - G + (p[j,k] + G)*X[i,j,k];\n",
        "\n",
        "subject to R5 {i in TAREFAS, k in MAQUINAS: i <> 0}:\n",
        "  Cmax >= C[i,k];\n",
        "\n",
        "subject to R6 {i in TAREFAS, k in MAQUINAS: i <> 0}:\n",
        "  E[i] >= d[i] - C[i,k];\n",
        "\n",
        "subject to R7:\n",
        "  Etotal = sum{i in TAREFAS: i <> 0} E[i];\n"
      ],
      "metadata": {
        "colab": {
          "base_uri": "https://localhost:8080/"
        },
        "id": "nj5frUMBslnt",
        "outputId": "0de7296c-5c94-4324-c72c-e1ae69d2dca6"
      },
      "execution_count": 58,
      "outputs": [
        {
          "output_type": "stream",
          "name": "stdout",
          "text": [
            "Overwriting MaquinasParalelasMakespan.mod\n"
          ]
        }
      ]
    },
    {
      "cell_type": "code",
      "source": [
        "%%writefile MaquinasParalelasMakespan.dat\n",
        "data;\n",
        "set TAREFAS := 0 1 2 3 4 5 6;\n",
        "set MAQUINAS := 1 2 3;\n",
        "param: p :=\n",
        "  0 1 0\n",
        "  0 2 0\n",
        "  0 3 0\n",
        "  1 1 6\n",
        "  1 2 5\n",
        "  1 3 5\n",
        "  2 1 10\n",
        "  2 2 11\n",
        "  2 3 13\n",
        "  3 1 7\n",
        "  3 2 8\n",
        "  3 3 9\n",
        "  4 1 13\n",
        "  4 2 11\n",
        "  4 3 16\n",
        "  5 1 23\n",
        "  5 2 25\n",
        "  5 3 24\n",
        "  6 1 19\n",
        "  6 2 14\n",
        "  6 3 18;\n",
        "\n",
        "param: d :=\n",
        "  0 0\n",
        "  1 27\n",
        "  2 38\n",
        "  3 43\n",
        "  4 29\n",
        "  5 19\n",
        "  6 35;"
      ],
      "metadata": {
        "colab": {
          "base_uri": "https://localhost:8080/"
        },
        "id": "DHKMw-ES3rLh",
        "outputId": "782bed53-9947-4881-8426-643db2e2be22"
      },
      "execution_count": 55,
      "outputs": [
        {
          "output_type": "stream",
          "name": "stdout",
          "text": [
            "Writing MaquinasParalelasMakespan.dat\n"
          ]
        }
      ]
    },
    {
      "cell_type": "code",
      "source": [
        "%%ampl_eval\n",
        "model MaquinasParalelasMakespan.mod;\n",
        "data MaquinasParalelasMakespan.dat;\n",
        "option solver highs;\n",
        "solve;\n",
        "display Cmax;\n",
        "display X;\n",
        "display C;\n",
        "reset;\n"
      ],
      "metadata": {
        "colab": {
          "base_uri": "https://localhost:8080/"
        },
        "id": "zNyRK0Zl5LR6",
        "outputId": "3c7f4dd1-2c97-4b03-ce33-26282521cf45"
      },
      "execution_count": 59,
      "outputs": [
        {
          "output_type": "stream",
          "name": "stdout",
          "text": [
            "HiGHS 1.5.3: \b\b\b\b\b\b\b\b\b\b\b\b\bHiGHS 1.5.3: optimal solution; objective 25\n",
            "10043 simplex iterations\n",
            "1197 branching nodes\n",
            "absmipgap=0.0004, relmipgap=1.6e-05\n",
            "Cmax = 25\n",
            "\n",
            "X [*,*,1]\n",
            ":   0   1   2        3         4   5   6    :=\n",
            "0   0   1   0   -2.82337e-14   0   0   0\n",
            "1   0   0   1    0             0   0   0\n",
            "2   0   0   0    1             0   0   0\n",
            "3   1   0   0    0             0   0   0\n",
            "4   0   0   0    0             0   0   0\n",
            "5   0   0   0    0             0   0   0\n",
            "6   0   0   0    0             0   0   0\n",
            "\n",
            " [*,*,2]\n",
            ":   0   1        2              3         4   5        6          :=\n",
            "0   0   0    7.02216e-15    0             0   0    1\n",
            "1   0   0    0              0             0   0    7.10543e-15\n",
            "2   0   0    0             -1.15463e-14   0   0   -7.10543e-15\n",
            "3   0   0    0              0             0   0    0\n",
            "4   1   0   -2.57572e-14    0             0   0    0\n",
            "5   0   0    0              0             0   0    0\n",
            "6   0   0    0              1.15463e-14   1   0    0\n",
            "\n",
            " [*,*,3]\n",
            ":   0        1              2             3        4   5   6    :=\n",
            "0   0   -8.91582e-15   0             2.82337e-14   0   1   0\n",
            "1   0    0             0             0             0   0   0\n",
            "2   0    1.18155e-14   0             0             0   0   0\n",
            "3   0    0             1.82981e-14   0             0   0   0\n",
            "4   0    0             0             0             0   0   0\n",
            "5   1    0             0             0             0   0   0\n",
            "6   0    0             0             0             0   0   0\n",
            ";\n",
            "\n",
            "C [*,*]\n",
            ":   1    2         3          :=\n",
            "0    0    0    0\n",
            "1    6   25   -4.45791e-14\n",
            "2   16    0    0\n",
            "3   23    0    9.89209e-14\n",
            "4    0   25    0\n",
            "5    0   25   24\n",
            "6    0   14    0\n",
            ";\n",
            "\n"
          ]
        }
      ]
    }
  ]
}