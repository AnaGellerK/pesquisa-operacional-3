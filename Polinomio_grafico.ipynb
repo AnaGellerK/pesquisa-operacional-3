{
  "nbformat": 4,
  "nbformat_minor": 0,
  "metadata": {
    "colab": {
      "provenance": []
    },
    "kernelspec": {
      "name": "python3",
      "display_name": "Python 3"
    },
    "language_info": {
      "name": "python"
    },
    "widgets": {
      "application/vnd.jupyter.widget-state+json": {
        "aad79b7c44fe45bcb9e9f560cf19cd16": {
          "model_module": "@jupyter-widgets/controls",
          "model_name": "VBoxModel",
          "model_module_version": "1.5.0",
          "state": {
            "_dom_classes": [],
            "_model_module": "@jupyter-widgets/controls",
            "_model_module_version": "1.5.0",
            "_model_name": "VBoxModel",
            "_view_count": null,
            "_view_module": "@jupyter-widgets/controls",
            "_view_module_version": "1.5.0",
            "_view_name": "VBoxView",
            "box_style": "",
            "children": [
              "IPY_MODEL_8ea37bfe506d429996f3dc8048e38d31",
              "IPY_MODEL_72537e0113244ed1951433310fe696e6",
              "IPY_MODEL_81003bc1017e4410aefa64937e1cfad8",
              "IPY_MODEL_8fa7eb4d15414a099732ed5be72ae2f3"
            ],
            "layout": "IPY_MODEL_7d77152f3f534ebbb8903e50223e935f"
          }
        },
        "8ea37bfe506d429996f3dc8048e38d31": {
          "model_module": "@jupyter-widgets/output",
          "model_name": "OutputModel",
          "model_module_version": "1.0.0",
          "state": {
            "_dom_classes": [],
            "_model_module": "@jupyter-widgets/output",
            "_model_module_version": "1.0.0",
            "_model_name": "OutputModel",
            "_view_count": null,
            "_view_module": "@jupyter-widgets/output",
            "_view_module_version": "1.0.0",
            "_view_name": "OutputView",
            "layout": "IPY_MODEL_3d806058c2f64365bb12175c5931dfb1",
            "msg_id": "",
            "outputs": [
              {
                "output_type": "stream",
                "name": "stdout",
                "text": [
                  "AMPL License UUID (you can use free https://ampl.com/ce or https://ampl.com/courses licenses):\n"
                ]
              }
            ]
          }
        },
        "72537e0113244ed1951433310fe696e6": {
          "model_module": "@jupyter-widgets/controls",
          "model_name": "HBoxModel",
          "model_module_version": "1.5.0",
          "state": {
            "_dom_classes": [],
            "_model_module": "@jupyter-widgets/controls",
            "_model_module_version": "1.5.0",
            "_model_name": "HBoxModel",
            "_view_count": null,
            "_view_module": "@jupyter-widgets/controls",
            "_view_module_version": "1.5.0",
            "_view_name": "HBoxView",
            "box_style": "",
            "children": [
              "IPY_MODEL_11cc0d7bc8f24e4ba7433a65bcb0c2a2"
            ],
            "layout": "IPY_MODEL_94b9e8d7e9dc488c881d8d930b25608c"
          }
        },
        "81003bc1017e4410aefa64937e1cfad8": {
          "model_module": "@jupyter-widgets/output",
          "model_name": "OutputModel",
          "model_module_version": "1.0.0",
          "state": {
            "_dom_classes": [],
            "_model_module": "@jupyter-widgets/output",
            "_model_module_version": "1.0.0",
            "_model_name": "OutputModel",
            "_view_count": null,
            "_view_module": "@jupyter-widgets/output",
            "_view_module_version": "1.0.0",
            "_view_name": "OutputView",
            "layout": "IPY_MODEL_054ba61a9086499c94f9fa8fee11b142",
            "msg_id": "",
            "outputs": []
          }
        },
        "8fa7eb4d15414a099732ed5be72ae2f3": {
          "model_module": "@jupyter-widgets/output",
          "model_name": "OutputModel",
          "model_module_version": "1.0.0",
          "state": {
            "_dom_classes": [],
            "_model_module": "@jupyter-widgets/output",
            "_model_module_version": "1.0.0",
            "_model_name": "OutputModel",
            "_view_count": null,
            "_view_module": "@jupyter-widgets/output",
            "_view_module_version": "1.0.0",
            "_view_name": "OutputView",
            "layout": "IPY_MODEL_41d028dff7c84dc79996eee09f0859fd",
            "msg_id": "",
            "outputs": [
              {
                "output_type": "stream",
                "name": "stdout",
                "text": [
                  "Licensed to AMPL Community Edition License for the AMPL Model Colaboratory (https://colab.ampl.com).\n"
                ]
              }
            ]
          }
        },
        "7d77152f3f534ebbb8903e50223e935f": {
          "model_module": "@jupyter-widgets/base",
          "model_name": "LayoutModel",
          "model_module_version": "1.2.0",
          "state": {
            "_model_module": "@jupyter-widgets/base",
            "_model_module_version": "1.2.0",
            "_model_name": "LayoutModel",
            "_view_count": null,
            "_view_module": "@jupyter-widgets/base",
            "_view_module_version": "1.2.0",
            "_view_name": "LayoutView",
            "align_content": null,
            "align_items": null,
            "align_self": null,
            "border": null,
            "bottom": null,
            "display": null,
            "flex": null,
            "flex_flow": null,
            "grid_area": null,
            "grid_auto_columns": null,
            "grid_auto_flow": null,
            "grid_auto_rows": null,
            "grid_column": null,
            "grid_gap": null,
            "grid_row": null,
            "grid_template_areas": null,
            "grid_template_columns": null,
            "grid_template_rows": null,
            "height": null,
            "justify_content": null,
            "justify_items": null,
            "left": null,
            "margin": null,
            "max_height": null,
            "max_width": null,
            "min_height": null,
            "min_width": null,
            "object_fit": null,
            "object_position": null,
            "order": null,
            "overflow": null,
            "overflow_x": null,
            "overflow_y": null,
            "padding": null,
            "right": null,
            "top": null,
            "visibility": null,
            "width": null
          }
        },
        "11cc0d7bc8f24e4ba7433a65bcb0c2a2": {
          "model_module": "@jupyter-widgets/controls",
          "model_name": "TextModel",
          "model_module_version": "1.5.0",
          "state": {
            "_dom_classes": [],
            "_model_module": "@jupyter-widgets/controls",
            "_model_module_version": "1.5.0",
            "_model_name": "TextModel",
            "_view_count": null,
            "_view_module": "@jupyter-widgets/controls",
            "_view_module_version": "1.5.0",
            "_view_name": "TextView",
            "continuous_update": true,
            "description": "License UUID:",
            "description_tooltip": null,
            "disabled": false,
            "layout": "IPY_MODEL_06ee4aed6a3844be8c447b5c6c0ceca2",
            "placeholder": "​",
            "style": "IPY_MODEL_2794436afea24a7caba439a5dbad8a6e",
            "value": ""
          }
        },
        "94b9e8d7e9dc488c881d8d930b25608c": {
          "model_module": "@jupyter-widgets/base",
          "model_name": "LayoutModel",
          "model_module_version": "1.2.0",
          "state": {
            "_model_module": "@jupyter-widgets/base",
            "_model_module_version": "1.2.0",
            "_model_name": "LayoutModel",
            "_view_count": null,
            "_view_module": "@jupyter-widgets/base",
            "_view_module_version": "1.2.0",
            "_view_name": "LayoutView",
            "align_content": null,
            "align_items": null,
            "align_self": null,
            "border": null,
            "bottom": null,
            "display": null,
            "flex": null,
            "flex_flow": null,
            "grid_area": null,
            "grid_auto_columns": null,
            "grid_auto_flow": null,
            "grid_auto_rows": null,
            "grid_column": null,
            "grid_gap": null,
            "grid_row": null,
            "grid_template_areas": null,
            "grid_template_columns": null,
            "grid_template_rows": null,
            "height": null,
            "justify_content": null,
            "justify_items": null,
            "left": null,
            "margin": null,
            "max_height": null,
            "max_width": null,
            "min_height": null,
            "min_width": null,
            "object_fit": null,
            "object_position": null,
            "order": null,
            "overflow": null,
            "overflow_x": null,
            "overflow_y": null,
            "padding": null,
            "right": null,
            "top": null,
            "visibility": null,
            "width": null
          }
        },
        "06ee4aed6a3844be8c447b5c6c0ceca2": {
          "model_module": "@jupyter-widgets/base",
          "model_name": "LayoutModel",
          "model_module_version": "1.2.0",
          "state": {
            "_model_module": "@jupyter-widgets/base",
            "_model_module_version": "1.2.0",
            "_model_name": "LayoutModel",
            "_view_count": null,
            "_view_module": "@jupyter-widgets/base",
            "_view_module_version": "1.2.0",
            "_view_name": "LayoutView",
            "align_content": null,
            "align_items": null,
            "align_self": null,
            "border": null,
            "bottom": null,
            "display": null,
            "flex": null,
            "flex_flow": null,
            "grid_area": null,
            "grid_auto_columns": null,
            "grid_auto_flow": null,
            "grid_auto_rows": null,
            "grid_column": null,
            "grid_gap": null,
            "grid_row": null,
            "grid_template_areas": null,
            "grid_template_columns": null,
            "grid_template_rows": null,
            "height": null,
            "justify_content": null,
            "justify_items": null,
            "left": null,
            "margin": null,
            "max_height": null,
            "max_width": null,
            "min_height": null,
            "min_width": null,
            "object_fit": null,
            "object_position": null,
            "order": null,
            "overflow": null,
            "overflow_x": null,
            "overflow_y": null,
            "padding": null,
            "right": null,
            "top": null,
            "visibility": null,
            "width": null
          }
        },
        "2794436afea24a7caba439a5dbad8a6e": {
          "model_module": "@jupyter-widgets/controls",
          "model_name": "DescriptionStyleModel",
          "model_module_version": "1.5.0",
          "state": {
            "_model_module": "@jupyter-widgets/controls",
            "_model_module_version": "1.5.0",
            "_model_name": "DescriptionStyleModel",
            "_view_count": null,
            "_view_module": "@jupyter-widgets/base",
            "_view_module_version": "1.2.0",
            "_view_name": "StyleView",
            "description_width": "initial"
          }
        },
        "3d806058c2f64365bb12175c5931dfb1": {
          "model_module": "@jupyter-widgets/base",
          "model_name": "LayoutModel",
          "model_module_version": "1.2.0",
          "state": {
            "_model_module": "@jupyter-widgets/base",
            "_model_module_version": "1.2.0",
            "_model_name": "LayoutModel",
            "_view_count": null,
            "_view_module": "@jupyter-widgets/base",
            "_view_module_version": "1.2.0",
            "_view_name": "LayoutView",
            "align_content": null,
            "align_items": null,
            "align_self": null,
            "border": null,
            "bottom": null,
            "display": null,
            "flex": null,
            "flex_flow": null,
            "grid_area": null,
            "grid_auto_columns": null,
            "grid_auto_flow": null,
            "grid_auto_rows": null,
            "grid_column": null,
            "grid_gap": null,
            "grid_row": null,
            "grid_template_areas": null,
            "grid_template_columns": null,
            "grid_template_rows": null,
            "height": null,
            "justify_content": null,
            "justify_items": null,
            "left": null,
            "margin": null,
            "max_height": null,
            "max_width": null,
            "min_height": null,
            "min_width": null,
            "object_fit": null,
            "object_position": null,
            "order": null,
            "overflow": null,
            "overflow_x": null,
            "overflow_y": null,
            "padding": null,
            "right": null,
            "top": null,
            "visibility": null,
            "width": null
          }
        },
        "054ba61a9086499c94f9fa8fee11b142": {
          "model_module": "@jupyter-widgets/base",
          "model_name": "LayoutModel",
          "model_module_version": "1.2.0",
          "state": {
            "_model_module": "@jupyter-widgets/base",
            "_model_module_version": "1.2.0",
            "_model_name": "LayoutModel",
            "_view_count": null,
            "_view_module": "@jupyter-widgets/base",
            "_view_module_version": "1.2.0",
            "_view_name": "LayoutView",
            "align_content": null,
            "align_items": null,
            "align_self": null,
            "border": null,
            "bottom": null,
            "display": null,
            "flex": null,
            "flex_flow": null,
            "grid_area": null,
            "grid_auto_columns": null,
            "grid_auto_flow": null,
            "grid_auto_rows": null,
            "grid_column": null,
            "grid_gap": null,
            "grid_row": null,
            "grid_template_areas": null,
            "grid_template_columns": null,
            "grid_template_rows": null,
            "height": null,
            "justify_content": null,
            "justify_items": null,
            "left": null,
            "margin": null,
            "max_height": null,
            "max_width": null,
            "min_height": null,
            "min_width": null,
            "object_fit": null,
            "object_position": null,
            "order": null,
            "overflow": null,
            "overflow_x": null,
            "overflow_y": null,
            "padding": null,
            "right": null,
            "top": null,
            "visibility": null,
            "width": null
          }
        },
        "41d028dff7c84dc79996eee09f0859fd": {
          "model_module": "@jupyter-widgets/base",
          "model_name": "LayoutModel",
          "model_module_version": "1.2.0",
          "state": {
            "_model_module": "@jupyter-widgets/base",
            "_model_module_version": "1.2.0",
            "_model_name": "LayoutModel",
            "_view_count": null,
            "_view_module": "@jupyter-widgets/base",
            "_view_module_version": "1.2.0",
            "_view_name": "LayoutView",
            "align_content": null,
            "align_items": null,
            "align_self": null,
            "border": null,
            "bottom": null,
            "display": null,
            "flex": null,
            "flex_flow": null,
            "grid_area": null,
            "grid_auto_columns": null,
            "grid_auto_flow": null,
            "grid_auto_rows": null,
            "grid_column": null,
            "grid_gap": null,
            "grid_row": null,
            "grid_template_areas": null,
            "grid_template_columns": null,
            "grid_template_rows": null,
            "height": null,
            "justify_content": null,
            "justify_items": null,
            "left": null,
            "margin": null,
            "max_height": null,
            "max_width": null,
            "min_height": null,
            "min_width": null,
            "object_fit": null,
            "object_position": null,
            "order": null,
            "overflow": null,
            "overflow_x": null,
            "overflow_y": null,
            "padding": null,
            "right": null,
            "top": null,
            "visibility": null,
            "width": null
          }
        }
      }
    }
  },
  "cells": [
    {
      "cell_type": "code",
      "execution_count": 9,
      "metadata": {
        "id": "6GylEhmVG6Fa"
      },
      "outputs": [],
      "source": [
        "# Install dependencies\n",
        "%pip install -q amplpy"
      ]
    },
    {
      "cell_type": "code",
      "source": [
        "from amplpy import AMPL, tools\n",
        "\n",
        "ampl = tools.ampl_notebook(\n",
        "    modules=[\"highs\", \"open\", \"knitro\"],  # modules to install\n",
        "    license_uuid=\"your-license-uuid\",  # license to use\n",
        ")"
      ],
      "metadata": {
        "colab": {
          "base_uri": "https://localhost:8080/",
          "height": 84,
          "referenced_widgets": [
            "aad79b7c44fe45bcb9e9f560cf19cd16",
            "8ea37bfe506d429996f3dc8048e38d31",
            "72537e0113244ed1951433310fe696e6",
            "81003bc1017e4410aefa64937e1cfad8",
            "8fa7eb4d15414a099732ed5be72ae2f3",
            "7d77152f3f534ebbb8903e50223e935f",
            "11cc0d7bc8f24e4ba7433a65bcb0c2a2",
            "94b9e8d7e9dc488c881d8d930b25608c",
            "06ee4aed6a3844be8c447b5c6c0ceca2",
            "2794436afea24a7caba439a5dbad8a6e",
            "3d806058c2f64365bb12175c5931dfb1",
            "054ba61a9086499c94f9fa8fee11b142",
            "41d028dff7c84dc79996eee09f0859fd"
          ]
        },
        "id": "rpszJ6pqG9fS",
        "outputId": "cc4b4bc9-65ff-4367-b0d9-5a125e2e53ec"
      },
      "execution_count": 10,
      "outputs": [
        {
          "output_type": "display_data",
          "data": {
            "text/plain": [
              "VBox(children=(Output(), HBox(children=(Text(value='', description='License UUID:', style=DescriptionStyle(des…"
            ],
            "application/vnd.jupyter.widget-view+json": {
              "version_major": 2,
              "version_minor": 0,
              "model_id": "aad79b7c44fe45bcb9e9f560cf19cd16"
            }
          },
          "metadata": {}
        }
      ]
    },
    {
      "cell_type": "code",
      "source": [
        "%%writefile modeloPNL.mod\n",
        "\n",
        "var x>=0;\n",
        "var z>=0;\n",
        "maximize FO: z;\n",
        "subject to R1:\n",
        "  z = 0.5*x^5-6*x^4+24.5*x^3-39*x^2+20*x;\n",
        "subject to r2:\n",
        "  x<=5;"
      ],
      "metadata": {
        "colab": {
          "base_uri": "https://localhost:8080/"
        },
        "id": "l_nUp6i7HagF",
        "outputId": "20bbf95e-6eec-4235-e396-9acaa38b686c"
      },
      "execution_count": 11,
      "outputs": [
        {
          "output_type": "stream",
          "name": "stdout",
          "text": [
            "Overwriting modeloPNL.mod\n"
          ]
        }
      ]
    },
    {
      "cell_type": "code",
      "source": [
        "%%ampl_eval\n",
        "reset;\n",
        "model modeloPNL.mod\n",
        "option solver highs;\n",
        "solve;\n",
        "display z;\n",
        "display x;"
      ],
      "metadata": {
        "colab": {
          "base_uri": "https://localhost:8080/"
        },
        "id": "tc-NCullH6vP",
        "outputId": "a47b1b54-f586-4f15-d20b-31cffb258589"
      },
      "execution_count": 13,
      "outputs": [
        {
          "output_type": "stream",
          "name": "stdout",
          "text": [
            "HiGHS 1.5.3: \n",
            "------------ WARNINGS ------------\n",
            "WARNING.  4 case(s) of \"PLApprox\". One of them:\n",
            "  An expression of type 'PowConstraint' has been\n",
            "piecewise-linearly approximated. Set cvt:plapprox:reltol\n",
            "to control precision (currently 0.010000).\n",
            "\b\b\b\b\b\b\b\b\b\b\b\b\bHiGHS 1.5.3: optimal solution; objective 16.81997309\n",
            "2553 simplex iterations\n",
            "91 branching nodes\n",
            " \n",
            "------------ WARNINGS ------------\n",
            "WARNING.  4 case(s) of \"PLApprox\". One of them:\n",
            "  An expression of type 'PowConstraint' has been\n",
            "piecewise-linearly approximated. Set cvt:plapprox:reltol\n",
            "to control precision (currently 0.010000).\n",
            "WARNING:  \"Solution Check\"\n",
            "     [ sol:chk:feastol=1e-06, :feastolrel=1e-06, :inttol=1e-05,\n",
            "       :round='', :prec='' ]\n",
            "Algebraic expression violations:\n",
            "  - 3 original expression(s) of type ':pow',\n",
            "        up to 2E+01 (abs), up to 8E-03 (rel)\n",
            " \n",
            " \n",
            "z = 16.82\n",
            "\n",
            "x = 4.51769\n",
            "\n"
          ]
        }
      ]
    },
    {
      "cell_type": "code",
      "source": [
        "%%ampl_eval\n",
        "reset;\n",
        "model modeloPNL.mod\n",
        "option solver ipopt;\n",
        "solve;\n",
        "display z;\n",
        "display x;"
      ],
      "metadata": {
        "colab": {
          "base_uri": "https://localhost:8080/"
        },
        "id": "UspBbNsCKWDj",
        "outputId": "ebf1ea0e-d50c-4686-c47b-541736e2d65f"
      },
      "execution_count": 14,
      "outputs": [
        {
          "output_type": "stream",
          "name": "stdout",
          "text": [
            "Ipopt 3.12.13: \n",
            "\n",
            "******************************************************************************\n",
            "This program contains Ipopt, a library for large-scale nonlinear optimization.\n",
            " Ipopt is released as open source code under the Eclipse Public License (EPL).\n",
            "         For more information visit http://projects.coin-or.org/Ipopt\n",
            "******************************************************************************\n",
            "\n",
            "This is Ipopt version 3.12.13, running with linear solver mumps.\n",
            "NOTE: Other linear solvers might be more efficient (see Ipopt documentation).\n",
            "\n",
            "Number of nonzeros in equality constraint Jacobian...:        2\n",
            "Number of nonzeros in inequality constraint Jacobian.:        0\n",
            "Number of nonzeros in Lagrangian Hessian.............:        1\n",
            "\n",
            "Total number of variables............................:        2\n",
            "                     variables with only lower bounds:        1\n",
            "                variables with lower and upper bounds:        1\n",
            "                     variables with only upper bounds:        0\n",
            "Total number of equality constraints.................:        1\n",
            "Total number of inequality constraints...............:        0\n",
            "        inequality constraints with only lower bounds:        0\n",
            "   inequality constraints with lower and upper bounds:        0\n",
            "        inequality constraints with only upper bounds:        0\n",
            "\n",
            "iter    objective    inf_pr   inf_du lg(mu)  ||d||  lg(rg) alpha_du alpha_pr  ls\n",
            "   0 -9.9999900e-03 1.86e-01 1.99e+00  -1.0 0.00e+00    -  0.00e+00 0.00e+00   0\n",
            "   1 -1.2538301e-01 5.19e-04 6.47e+00  -1.0 1.15e-01    -  3.90e-01 1.00e+00f  1\n",
            "   2 -1.4933657e+00 1.81e-01 2.39e+01  -1.0 1.37e+00    -  1.14e-01 1.00e+00f  1\n",
            "   3 -3.2412728e+00 5.46e-01 7.11e+00  -1.0 1.75e+00    -  7.06e-01 1.00e+00f  1\n",
            "   4 -3.6170568e+00 4.33e-01 7.48e-01  -1.0 3.76e-01    -  8.85e-01 1.00e+00h  1\n",
            "   5 -3.2017387e+00 8.81e-03 4.33e-02  -1.7 4.15e-01    -  1.00e+00 1.00e+00h  1\n",
            "   6 -3.1929322e+00 5.34e-08 1.44e-05  -2.5 8.81e-03    -  1.00e+00 1.00e+00h  1\n",
            "   7 -3.1929336e+00 6.72e-07 3.71e-06  -3.8 2.02e-04    -  1.00e+00 1.00e+00h  1\n",
            "   8 -3.1929329e+00 2.15e-09 1.11e-08  -5.7 1.14e-05    -  1.00e+00 1.00e+00h  1\n",
            "   9 -3.1929329e+00 3.22e-13 1.70e-12  -8.6 1.40e-07    -  1.00e+00 1.00e+00h  1\n",
            "\n",
            "Number of Iterations....: 9\n",
            "\n",
            "                                   (scaled)                 (unscaled)\n",
            "Objective...............:  -3.1929329087319815e+00   -3.1929329087319815e+00\n",
            "Dual infeasibility......:   1.6953308574808428e-12    1.6953308574808428e-12\n",
            "Constraint violation....:   3.2196467714129540e-13    3.2196467714129540e-13\n",
            "Complementarity.........:   2.5065991572126544e-09    2.5065991572126544e-09\n",
            "Overall NLP error.......:   2.5065991572126544e-09    2.5065991572126544e-09\n",
            "\n",
            "\n",
            "Number of objective function evaluations             = 10\n",
            "Number of objective gradient evaluations             = 10\n",
            "Number of equality constraint evaluations            = 10\n",
            "Number of inequality constraint evaluations          = 0\n",
            "Number of equality constraint Jacobian evaluations   = 10\n",
            "Number of inequality constraint Jacobian evaluations = 0\n",
            "Number of Lagrangian Hessian evaluations             = 9\n",
            "Total CPU secs in IPOPT (w/o function evaluations)   =      0.008\n",
            "Total CPU secs in NLP function evaluations           =      0.000\n",
            "\n",
            "EXIT: Optimal Solution Found.\n",
            "\b\b\b\b\b\b\b\b\b\b\b\b\b\b\b \n",
            "Ipopt 3.12.13: Optimal Solution Found\n",
            "\n",
            "suffix ipopt_zU_out OUT;\n",
            "suffix ipopt_zL_out OUT;\n",
            "z = 3.19293\n",
            "\n",
            "x = 0.371013\n",
            "\n"
          ]
        }
      ]
    },
    {
      "cell_type": "code",
      "source": [
        "%%ampl_eval\n",
        "reset;\n",
        "model modeloPNL.mod\n",
        "option solver knitro;\n",
        "solve;\n",
        "display z;\n",
        "display x;"
      ],
      "metadata": {
        "colab": {
          "base_uri": "https://localhost:8080/"
        },
        "id": "2i85sOtAKcYh",
        "outputId": "e95a5b4c-0547-4f19-aa73-f9dc77c4364b"
      },
      "execution_count": 15,
      "outputs": [
        {
          "output_type": "stream",
          "name": "stdout",
          "text": [
            "Artelys Knitro 13.2.1: \b\b\b\b\b\b\b\b\b\b\b\b\b\b\b\b\b\b\b\b\b\b\bKnitro 13.2.1: Locally optimal or satisfactory solution.\n",
            "objective -6.916206961e-07; feasibility error 6.92e-07\n",
            "18 iterations; 21 function evaluations\n",
            "\n",
            "suffix feaserror OUT;\n",
            "suffix opterror OUT;\n",
            "suffix numfcevals OUT;\n",
            "suffix numiters OUT;\n",
            "z = -6.91621e-07\n",
            "\n",
            "x = 5\n",
            "\n"
          ]
        }
      ]
    }
  ]
}